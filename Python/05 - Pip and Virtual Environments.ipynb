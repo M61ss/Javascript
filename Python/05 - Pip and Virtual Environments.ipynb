{
 "cells": [
  {
   "cell_type": "markdown",
   "metadata": {},
   "source": [
    "# `pip`"
   ]
  },
  {
   "cell_type": "markdown",
   "metadata": {},
   "source": [
    "`pip` is a package manager for Python packages and modules."
   ]
  },
  {
   "cell_type": "markdown",
   "metadata": {},
   "source": [
    "## Installation"
   ]
  },
  {
   "cell_type": "markdown",
   "metadata": {},
   "source": [
    "`pip` should be already installed with Python in Windows or Mac. On Linux, maybe you need to run:\n",
    "\n",
    "```shell\n",
    "sudo apt install pip\n",
    "```\n",
    "\n",
    "`apt` is the package manager for Debian, you can use whatever you need for you distro."
   ]
  },
  {
   "cell_type": "markdown",
   "metadata": {},
   "source": [
    "## Usage"
   ]
  },
  {
   "cell_type": "markdown",
   "metadata": {},
   "source": [
    "### `install` and `uninstall`\n",
    "\n",
    "Install/uninistall a module:\n",
    "\n",
    "```shell\n",
    "pip install module_name\n",
    "```\n",
    "\n",
    "```shell\n",
    "pip uninstall module_name\n",
    "```"
   ]
  },
  {
   "cell_type": "markdown",
   "metadata": {},
   "source": [
    "### `list`\n",
    "\n",
    "Get the list of installed packages/modules in the current running environment:\n",
    "\n",
    "```shell\n",
    "pip list\n",
    "```"
   ]
  },
  {
   "cell_type": "markdown",
   "metadata": {},
   "source": [
    "### `requirements.txt`\n",
    "\n",
    "Create a `requirement.txt` file:\n",
    "\n",
    "```shell\n",
    "pip freeze > requirements.txt\n",
    "```\n",
    "\n",
    "This is useful to fastly setup Python dependencies if you work on multiple machines or with other people who may don't know what packages or modules are needed to run the application.\n",
    "\n",
    "Then, dependencies are loadable from that file:\n",
    "\n",
    "```shell\n",
    "pip install -r requirements.txt\n",
    "```"
   ]
  },
  {
   "cell_type": "markdown",
   "metadata": {},
   "source": [
    "# Virtual Environments"
   ]
  },
  {
   "cell_type": "markdown",
   "metadata": {},
   "source": [
    "In Python there are virtual environments, which allow to install `pip` packages or modules inside a separeted folder (`env`). It is a very powerful feature because it is possible to install packages without affect the entire system. This way, it is also easier to remember what are packages needed by each application which we are developing."
   ]
  },
  {
   "cell_type": "markdown",
   "metadata": {},
   "source": [
    "## Creation"
   ]
  },
  {
   "cell_type": "markdown",
   "metadata": {},
   "source": [
    "Create a virual environment:\n",
    "\n",
    "```shell\n",
    "pip install virtualenv\n",
    "virtualenv env\n",
    "```\n",
    "\n",
    "By naming convention, `env` is the name for the virtual environment folder. Anyway, the name is arbitrary.\n",
    "\n",
    "**Note**: at the time of creation, the new environment inherits all packages and modules installed in the outer environment."
   ]
  },
  {
   "cell_type": "markdown",
   "metadata": {},
   "source": [
    "## Activation and deactivation\n",
    "\n",
    "Open the terminal, go inside your root application folder, then activate the virtual environment running (on Windows):\n",
    "\n",
    "```shell\n",
    "./env/Scripts/activate.ps1\n",
    "```\n",
    "\n",
    "For other OS you should check online for the correct activation method. On Linux run:\n",
    "\n",
    "```shell\n",
    "source env/bin/activate\n",
    "```\n",
    "\n",
    "Deactivate using:\n",
    "\n",
    "```shell\n",
    "deactivate\n",
    "```\n",
    "\n",
    "If you are using Anaconda, you may need to run:\n",
    "\n",
    "```shell\n",
    "conda deactivate\n",
    "# OR\n",
    "source deactivate\n",
    "```\n",
    "\n",
    "*Note*: if you are using VS Code, maybe Pylance does not automatically set the scope on the virtual environment. To solve this problem, restart the extention after the virtual environment activation."
   ]
  }
 ],
 "metadata": {
  "language_info": {
   "name": "python"
  }
 },
 "nbformat": 4,
 "nbformat_minor": 2
}
